{
 "cells": [
  {
   "cell_type": "code",
   "execution_count": 16,
   "metadata": {},
   "outputs": [],
   "source": [
    "# IMPORT SECTION\n",
    "import json, getpass\n",
    "from selenium import webdriver\n",
    "from selenium.webdriver.common.by import By\n",
    "from selenium.webdriver.common.alert import Alert\n",
    "from selenium.webdriver.edge.options import Options\n",
    "from selenium.common.exceptions import NoSuchElementException\n",
    "from selenium.common.exceptions import UnexpectedAlertPresentException"
   ]
  },
  {
   "cell_type": "code",
   "execution_count": 17,
   "metadata": {},
   "outputs": [
    {
     "name": "stdout",
     "output_type": "stream",
     "text": [
      "\n",
      "█▀█ █▀ █░█   ▄▀█ █░█ ▀█▀ █▀█   █▀▀ █░█ ▄▀█ █░░ █░█ ▄▀█ ▀█▀ █▀▀\n",
      "█▀▀ ▄█ █▄█   █▀█ █▄█ ░█░ █▄█   ██▄ ▀▄▀ █▀█ █▄▄ █▄█ █▀█ ░█░ ██▄\n",
      "\n",
      "=============\n",
      "by: Affan Kasemsan\n",
      "GitHub: https://github.com/GoRyuuO\n",
      "Source: https://github.com/GoRyuuO/psu-auto-evaluate.git\n"
     ]
    }
   ],
   "source": [
    "# INTO PRINT\n",
    "print(open('data/paint.txt', 'r', encoding='utf8').read())\n",
    "print('\\n=============')\n",
    "print('by: Affan Kasemsan')\n",
    "print('GitHub: https://github.com/GoRyuuO')\n",
    "print('Source: https://github.com/GoRyuuO/psu-auto-evaluate.git')"
   ]
  },
  {
   "cell_type": "code",
   "execution_count": 18,
   "metadata": {},
   "outputs": [],
   "source": [
    "# LOAD CONFIG\n",
    "def config_load():\n",
    "    global EDGE_PATH, SITE, HEADLESS, DEFAULT_POINT, LANGUAGE\n",
    "    with open('data/eva-config.json', 'r') as fp:\n",
    "        config = json.load(fp)\n",
    "    EDGE_PATH = config['edge-webdriver']\n",
    "    SITE = config['evaluate-site']\n",
    "    HEADLESS = bool(config['headless-mode'])\n",
    "    DEFAULT_POINT = config['default-score'] # Max = 4, Min = 1\n",
    "    LANGUAGE = config['language']\n",
    "    if DEFAULT_POINT not in range(1,5): raise ValueError('Wrong score range score must be between 1 and 4')\n",
    "config_load()"
   ]
  },
  {
   "cell_type": "code",
   "execution_count": 19,
   "metadata": {},
   "outputs": [
    {
     "name": "stderr",
     "output_type": "stream",
     "text": [
      "C:\\Users\\afasa\\AppData\\Local\\Temp\\ipykernel_12488\\3780526284.py:7: DeprecationWarning: executable_path has been deprecated, please pass in a Service object\n",
      "  driver = webdriver.Edge(EDGE_PATH, options=headless)\n"
     ]
    }
   ],
   "source": [
    "# Webdriver Load\n",
    "headless = Options()\n",
    "headless.headless = False #HEADLESS\n",
    "headless.add_argument(\"--log-level=OFF\")\n",
    "\n",
    "try:\n",
    "    driver = webdriver.Edge(EDGE_PATH, options=headless)\n",
    "except:\n",
    "    print('\"msedgedriver.exe\" file is missing.')\n",
    "    print('and be sure MSEdge is installed in your PC.')"
   ]
  },
  {
   "cell_type": "code",
   "execution_count": 20,
   "metadata": {},
   "outputs": [],
   "source": [
    "# FUNCTION DEFINED\n",
    "def get_account():\n",
    "    global USER, PSWD \n",
    "    USER = input('Username: ')\n",
    "    PSWD = getpass.getpass('Password: ')\n",
    "\n",
    "def login(USER, PASSWORD):\n",
    "    try:\n",
    "        driver.get(SITE)\n",
    "        driver.find_element(By.ID, 'username').send_keys(USER)\n",
    "        driver.find_element(By.ID, 'password').send_keys(PASSWORD)\n",
    "        driver.find_element(By.NAME, 'submit').click()\n",
    "        driver.find_element(By.NAME, 'Submit').click()\n",
    "        return True\n",
    "    except UnexpectedAlertPresentException:\n",
    "        print('Please input correct password/You can not use this system', end='')\n",
    "        return False\n",
    "\n",
    "def get_state():\n",
    "    \"\"\"Get state:bool to check is that login before.\n",
    "\n",
    "    Returns: bool\n",
    "    \"\"\"\n",
    "    try:\n",
    "        driver.find_element(By.ID, 'username')\n",
    "        print(\"Login first.\")\n",
    "        return False\n",
    "    except NoSuchElementException:\n",
    "        return True\n",
    "\n",
    "def get_user_semester(state:bool):\n",
    "    if state == False: return\n",
    "    info = driver.find_element(By.XPATH, '/html/body/table/tbody/tr[2]/td/center/table/tbody/tr/td/table/tbody/tr[1]/td[2]')\n",
    "    print('==================')\n",
    "    print('User:', USER)\n",
    "    print('Semester:', '-'.join([x for x in [info.text.split(' ')[1], info.text.split(' ')[3]]]))\n",
    "    print('==================')\n",
    "\n",
    "def get_current_staff_eva(state:bool):\n",
    "    if state == False: return\n",
    "    current_eva = driver.find_element(By.CSS_SELECTOR, 'body > table > tbody > tr:nth-child(2) > td > center > table > tbody > tr > td > table > tbody > tr:nth-child(6) > td > table > tbody > tr:nth-child(3)').text.split('\\n')\n",
    "    subject = 'วิชา: (' + ') '.join([current_eva[0], current_eva[1].split(' ')[0]])\n",
    "    name = ' '.join(current_eva[1].split(' ')[1:])\n",
    "    print(subject, name, sep='\\nอาจารย์ผู้สอน: ')\n",
    "    print('img: ' + driver.find_element(By.CSS_SELECTOR, 'div > img').get_attribute('src'))\n",
    "    print('==================')\n",
    "\n",
    "def start_evalute(state:bool):\n",
    "    \"\"\"Start auto evaluate teachers\n",
    "\n",
    "    Args:\n",
    "        state (bool): Check that you are login before.\n",
    "    \"\"\"\n",
    "    if state == False: return\n",
    "    for i in range(0,8):\n",
    "        radio = driver.find_element(By.NAME, f'ra_scale{i}')\n",
    "        driver.execute_script(\"arguments[0].setAttribute('value',arguments[1])\",radio, DEFAULT_POINT)\n",
    "        radio.click()\n",
    "    driver.find_element(By.ID, 'frmEva').submit()\n",
    "    \n",
    "    alrt = Alert(driver)\n",
    "    print(alrt.text)\n",
    "    alrt.accept()\n",
    "\n",
    "def auto_evaluate():\n",
    "    eva_btn = driver.find_elements(By.TAG_NAME, 'a')\n",
    "    while eva_btn[9].text == 'เริ่มประเมิน':\n",
    "        get_current_staff_eva(get_state())\n",
    "        eva_btn[9].click()\n",
    "        start_evalute(get_state())\n",
    "        eva_btn = driver.find_elements(By.TAG_NAME, 'a')\n",
    "    else: \n",
    "        print('All done.')\n",
    "        driver.quit()"
   ]
  },
  {
   "cell_type": "code",
   "execution_count": 21,
   "metadata": {},
   "outputs": [
    {
     "name": "stdout",
     "output_type": "stream",
     "text": [
      "==================\n",
      "User: 6410210160\n",
      "Semester: 3-2564\n",
      "==================\n"
     ]
    }
   ],
   "source": [
    "# LOGIN AND [ GET USER SEMESTER ] [ 3 TRY | Cancel by ESC ]\n",
    "count = 0\n",
    "while count <3:\n",
    "    get_account()\n",
    "    if login(USER,PSWD):\n",
    "        get_user_semester(get_state())\n",
    "        break\n",
    "    else:\n",
    "        count+=1\n",
    "        print(' | ('+ str(3-count) +' time left)')\n",
    "    if USER == '' and PSWD == '':\n",
    "        print('Cancel by user')\n",
    "        break\n"
   ]
  },
  {
   "cell_type": "code",
   "execution_count": 22,
   "metadata": {},
   "outputs": [
    {
     "name": "stdout",
     "output_type": "stream",
     "text": [
      "วิชา: (145-101) สัตว์เลี้ยงเพื่อนรัก\n",
      "อาจารย์ผู้สอน: ศศิภา จันทร์ขจร\n",
      "img: https://dss.psu.ac.th/dss_person/images/staff/0021956.jpg\n",
      "==================\n",
      "ส่งแบบประเมินเรียบร้อย\n",
      "วิชา: (145-101) สัตว์เลี้ยงเพื่อนรัก\n",
      "อาจารย์ผู้สอน: สฤษฏิ์วิชญ์ ปัญญาบริบาลบ์\n",
      "img: https://dss.psu.ac.th/dss_person/images/staff/0030092.jpg\n",
      "==================\n",
      "ส่งแบบประเมินเรียบร้อย\n",
      "วิชา: (145-101) สัตว์เลี้ยงเพื่อนรัก\n",
      "อาจารย์ผู้สอน: สุณีย์ หวันเหล็ม\n",
      "img: https://dss.psu.ac.th/dss_person/images/staff/0025041.jpg\n",
      "==================\n",
      "ส่งแบบประเมินเรียบร้อย\n",
      "All done.\n"
     ]
    }
   ],
   "source": [
    "# AUTO EVALUATE AND MAIN PROGRAM\n",
    "auto_evaluate()\n",
    "\n",
    "exit(1)"
   ]
  }
 ],
 "metadata": {
  "interpreter": {
   "hash": "d3e10ef16274dd72e574b8fa73b58450b957d8421a2901baded3cca26fcf5dda"
  },
  "kernelspec": {
   "display_name": "Python 3.10.4 64-bit",
   "language": "python",
   "name": "python3"
  },
  "language_info": {
   "codemirror_mode": {
    "name": "ipython",
    "version": 3
   },
   "file_extension": ".py",
   "mimetype": "text/x-python",
   "name": "python",
   "nbconvert_exporter": "python",
   "pygments_lexer": "ipython3",
   "version": "3.10.4"
  },
  "orig_nbformat": 4
 },
 "nbformat": 4,
 "nbformat_minor": 2
}
